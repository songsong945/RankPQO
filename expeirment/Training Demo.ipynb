{
 "cells": [
  {
   "cell_type": "code",
   "execution_count": 1,
   "id": "cc328367",
   "metadata": {},
   "outputs": [],
   "source": [
    "import json\n",
    "from abc import ABCMeta, abstractmethod\n",
    "\n",
    "import numpy as np\n",
    "import torch\n",
    "import torch.nn as nn\n",
    "import torch.nn.functional as F"
   ]
  },
  {
   "cell_type": "code",
   "execution_count": 2,
   "id": "380d753c",
   "metadata": {},
   "outputs": [],
   "source": [
    "%load_ext autoreload\n",
    "%autoreload 2"
   ]
  },
  {
   "cell_type": "code",
   "execution_count": 3,
   "id": "9b3c2ea2",
   "metadata": {},
   "outputs": [],
   "source": [
    "import sys\n",
    "sys.path.append('..')"
   ]
  },
  {
   "cell_type": "code",
   "execution_count": 4,
   "id": "d54a6619",
   "metadata": {},
   "outputs": [],
   "source": [
    "from train.train_debug import *"
   ]
  },
  {
   "cell_type": "code",
   "execution_count": null,
   "id": "0eb1ec9a",
   "metadata": {},
   "outputs": [],
   "source": []
  },
  {
   "cell_type": "code",
   "execution_count": 5,
   "id": "4ca8f9ad",
   "metadata": {},
   "outputs": [],
   "source": [
    "Z, X1, X2, Y1, Y2, params, preprocess_info = load_training_data('../training_data/example_query/','q0')"
   ]
  },
  {
   "cell_type": "code",
   "execution_count": 6,
   "id": "e919eba7",
   "metadata": {},
   "outputs": [],
   "source": [
    "feature_generator = FeatureGenerator()"
   ]
  },
  {
   "cell_type": "code",
   "execution_count": null,
   "id": "0a75c529",
   "metadata": {},
   "outputs": [],
   "source": []
  },
  {
   "cell_type": "code",
   "execution_count": 7,
   "id": "23b46a72",
   "metadata": {},
   "outputs": [
    {
     "name": "stdout",
     "output_type": "stream",
     "text": [
      "RelType :  {'Hash', 'Index Scan', 'Seq Scan', 'Hash Join', 'Nested Loop'}\n"
     ]
    }
   ],
   "source": [
    "tuning_model = False\n",
    "rank_PQO_model = None\n",
    "if False:\n",
    "    rank_PQO_model = RankPQOModel(None, template_id)\n",
    "    rank_PQO_model.load(model_path)\n",
    "    feature_generator = rank_PQO_model._feature_generator\n",
    "else:\n",
    "    feature_generator = FeatureGenerator()\n",
    "    feature_generator.fit(X1 + X2)\n",
    "\n",
    "X1 = feature_generator.transform(X1)\n",
    "X2 = feature_generator.transform(X2)\n",
    "Z = feature_generator.transform_z(Z, params, preprocess_info)"
   ]
  },
  {
   "cell_type": "code",
   "execution_count": 10,
   "id": "3a402a5f",
   "metadata": {},
   "outputs": [],
   "source": [
    "device = 'cuda'\n",
    "rank_PQO_model = RankPQOModel(feature_generator, 1, preprocess_info, device=device)"
   ]
  },
  {
   "cell_type": "code",
   "execution_count": 11,
   "id": "1afd46b4",
   "metadata": {},
   "outputs": [
    {
     "name": "stdout",
     "output_type": "stream",
     "text": [
      "input_feature_dim: 23\n",
      "Epoch 0 training loss: 0.22601210408740574\n",
      "Epoch 1 training loss: 0.09909177323182423\n",
      "Epoch 2 training loss: 0.0353688100973765\n",
      "Epoch 3 training loss: 0.011441625654697418\n",
      "Epoch 4 training loss: 0.005738006076878971\n",
      "Epoch 5 training loss: 0.0023068085105882753\n",
      "Epoch 6 training loss: 0.0012890824388402204\n",
      "Epoch 7 training loss: 0.0006916067925178342\n",
      "Epoch 8 training loss: 0.00045895827416744496\n",
      "Epoch 9 training loss: 0.0003344901746863292\n",
      "training time: 0.591083288192749 batch size: 3\n"
     ]
    }
   ],
   "source": [
    "rank_PQO_model.fit(X1, X2, Y1, Y2, Z, tuning_model, 3, 10)"
   ]
  },
  {
   "cell_type": "code",
   "execution_count": null,
   "id": "b48427c2",
   "metadata": {},
   "outputs": [],
   "source": []
  },
  {
   "cell_type": "code",
   "execution_count": 12,
   "id": "21016f5c",
   "metadata": {},
   "outputs": [],
   "source": [
    "device = 'cpu'\n",
    "rank_PQO_model = RankPQOModel(feature_generator, 1, preprocess_info, device=device)"
   ]
  },
  {
   "cell_type": "code",
   "execution_count": 13,
   "id": "f1412135",
   "metadata": {},
   "outputs": [
    {
     "name": "stdout",
     "output_type": "stream",
     "text": [
      "input_feature_dim: 23\n",
      "Epoch 0 training loss: 0.22509536147117615\n",
      "Epoch 1 training loss: 0.0975103990899192\n",
      "Epoch 2 training loss: 0.051660872995853424\n",
      "Epoch 3 training loss: 0.028307569523652393\n",
      "Epoch 4 training loss: 0.018218753445479605\n",
      "Epoch 5 training loss: 0.010339624662366178\n",
      "Epoch 6 training loss: 0.006052305404510763\n",
      "Epoch 7 training loss: 0.00402586648447646\n",
      "Epoch 8 training loss: 0.002937598050468498\n",
      "Epoch 9 training loss: 0.0018717767828396366\n",
      "training time: 0.6645674705505371 batch size: 3\n"
     ]
    }
   ],
   "source": [
    "rank_PQO_model.fit(X1, X2, Y1, Y2, Z, tuning_model, 3, 10)"
   ]
  },
  {
   "cell_type": "code",
   "execution_count": null,
   "id": "b306da72",
   "metadata": {},
   "outputs": [],
   "source": []
  }
 ],
 "metadata": {
  "kernelspec": {
   "display_name": "Python 3 (ipykernel)",
   "language": "python",
   "name": "python3"
  },
  "language_info": {
   "codemirror_mode": {
    "name": "ipython",
    "version": 3
   },
   "file_extension": ".py",
   "mimetype": "text/x-python",
   "name": "python",
   "nbconvert_exporter": "python",
   "pygments_lexer": "ipython3",
   "version": "3.7.10"
  }
 },
 "nbformat": 4,
 "nbformat_minor": 5
}

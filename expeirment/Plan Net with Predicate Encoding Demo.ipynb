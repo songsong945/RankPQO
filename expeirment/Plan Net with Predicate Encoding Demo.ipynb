{
 "cells": [
  {
   "cell_type": "code",
   "execution_count": 1,
   "id": "cc328367",
   "metadata": {},
   "outputs": [],
   "source": [
    "import json\n",
    "from abc import ABCMeta, abstractmethod\n",
    "\n",
    "import numpy as np\n",
    "import torch\n",
    "import torch.nn as nn\n",
    "import torch.nn.functional as F"
   ]
  },
  {
   "cell_type": "code",
   "execution_count": 2,
   "id": "380d753c",
   "metadata": {},
   "outputs": [],
   "source": [
    "%load_ext autoreload\n",
    "%autoreload 2"
   ]
  },
  {
   "cell_type": "code",
   "execution_count": 3,
   "id": "9b3c2ea2",
   "metadata": {},
   "outputs": [],
   "source": [
    "import sys\n",
    "sys.path.append('..')"
   ]
  },
  {
   "cell_type": "code",
   "execution_count": 4,
   "id": "d54a6619",
   "metadata": {},
   "outputs": [],
   "source": [
    "from train.train import *"
   ]
  },
  {
   "cell_type": "code",
   "execution_count": null,
   "id": "0eb1ec9a",
   "metadata": {},
   "outputs": [],
   "source": []
  },
  {
   "cell_type": "code",
   "execution_count": 5,
   "id": "4ca8f9ad",
   "metadata": {},
   "outputs": [],
   "source": [
    "Z, X1, X2, Y1, Y2, params, preprocess_info = load_training_data('../training_data/example_query/','q0')"
   ]
  },
  {
   "cell_type": "code",
   "execution_count": 6,
   "id": "81ac87b6",
   "metadata": {},
   "outputs": [],
   "source": [
    "Z, X1, X2, Y1, Y2, params, preprocess_info = load_training_data('../training_data/JOB/','16c')"
   ]
  },
  {
   "cell_type": "code",
   "execution_count": 7,
   "id": "e919eba7",
   "metadata": {},
   "outputs": [],
   "source": [
    "feature_generator = FeatureGenerator()"
   ]
  },
  {
   "cell_type": "code",
   "execution_count": 8,
   "id": "8f02f0d3",
   "metadata": {},
   "outputs": [],
   "source": [
    "feature_generator.use_est = False\n",
    "feature_generator.use_pred = True"
   ]
  },
  {
   "cell_type": "code",
   "execution_count": 9,
   "id": "ed06e5b9",
   "metadata": {},
   "outputs": [
    {
     "name": "stdout",
     "output_type": "stream",
     "text": [
      "RelType :  {'Aggregate', 'Seq Scan', 'Hash Join', 'Materialize', 'Nested Loop', 'Index Only Scan', 'Index Scan', 'Hash'}\n"
     ]
    }
   ],
   "source": [
    "feature_generator.fit_pred_model(X1 + X2)\n",
    "X1_ = feature_generator.transform(X1)\n",
    "X2_ = feature_generator.transform(X2)\n",
    "Z_ = feature_generator.transform_z(Z, params, preprocess_info)"
   ]
  },
  {
   "cell_type": "code",
   "execution_count": 10,
   "id": "f9697f8f",
   "metadata": {},
   "outputs": [],
   "source": [
    "input_feature_dim = len(X1_[0].get_feature())"
   ]
  },
  {
   "cell_type": "code",
   "execution_count": 11,
   "id": "0a75c529",
   "metadata": {},
   "outputs": [],
   "source": [
    "from model.model import PlanEmbeddingNetPredVersion\n",
    "plan_net2 = PlanEmbeddingNetPredVersion(input_feature_dim)"
   ]
  },
  {
   "cell_type": "code",
   "execution_count": 12,
   "id": "b306da72",
   "metadata": {},
   "outputs": [],
   "source": [
    "trees = plan_net2.build_trees(X1_[:10])"
   ]
  },
  {
   "cell_type": "code",
   "execution_count": 13,
   "id": "14d538e6",
   "metadata": {},
   "outputs": [],
   "source": [
    "plan_emb = plan_net2(trees)\n",
    "# plan_emb"
   ]
  },
  {
   "cell_type": "code",
   "execution_count": 14,
   "id": "2870a6cc",
   "metadata": {},
   "outputs": [
    {
     "data": {
      "text/plain": [
       "torch.Size([10, 32])"
      ]
     },
     "execution_count": 14,
     "metadata": {},
     "output_type": "execute_result"
    }
   ],
   "source": [
    "plan_emb.size()"
   ]
  },
  {
   "cell_type": "code",
   "execution_count": 15,
   "id": "87e51274",
   "metadata": {},
   "outputs": [],
   "source": [
    "device = 'cuda'\n",
    "plan_net2.to(device)\n",
    "trees = plan_net2.build_trees(X1_[:10])\n",
    "plan_emb = plan_net2(trees)\n",
    "# plan_emb\n"
   ]
  },
  {
   "cell_type": "code",
   "execution_count": 16,
   "id": "cd51c488",
   "metadata": {},
   "outputs": [
    {
     "data": {
      "text/plain": [
       "torch.Size([10, 32])"
      ]
     },
     "execution_count": 16,
     "metadata": {},
     "output_type": "execute_result"
    }
   ],
   "source": [
    "plan_emb.size()"
   ]
  },
  {
   "cell_type": "code",
   "execution_count": null,
   "id": "5a934055",
   "metadata": {},
   "outputs": [],
   "source": []
  },
  {
   "cell_type": "markdown",
   "id": "7ef9fc28",
   "metadata": {},
   "source": [
    "------------------------------\n",
    "Previous Version"
   ]
  },
  {
   "cell_type": "code",
   "execution_count": 17,
   "id": "2d081e84",
   "metadata": {},
   "outputs": [],
   "source": [
    "feature_generator_old = FeatureGenerator()"
   ]
  },
  {
   "cell_type": "code",
   "execution_count": 18,
   "id": "397073b6",
   "metadata": {},
   "outputs": [
    {
     "name": "stdout",
     "output_type": "stream",
     "text": [
      "RelType :  {'Aggregate', 'Seq Scan', 'Hash Join', 'Materialize', 'Nested Loop', 'Index Only Scan', 'Index Scan', 'Hash'}\n"
     ]
    }
   ],
   "source": [
    "feature_generator.fit(X1 + X2)\n",
    "X1_ = feature_generator.transform(X1)\n",
    "X2_ = feature_generator.transform(X2)\n",
    "Z_ = feature_generator.transform_z(Z, params, preprocess_info)"
   ]
  },
  {
   "cell_type": "code",
   "execution_count": 19,
   "id": "c683f691",
   "metadata": {},
   "outputs": [],
   "source": [
    "from model.model import PlanEmbeddingNet\n",
    "input_feature_dim = len(X1_[0].get_feature())\n",
    "plan_net = PlanEmbeddingNet(input_feature_dim)"
   ]
  },
  {
   "cell_type": "code",
   "execution_count": 20,
   "id": "b6a035ed",
   "metadata": {},
   "outputs": [
    {
     "data": {
      "text/plain": [
       "torch.Size([10, 32])"
      ]
     },
     "execution_count": 20,
     "metadata": {},
     "output_type": "execute_result"
    }
   ],
   "source": [
    "trees = plan_net.build_trees(X1_[:10])\n",
    "plan_emb = plan_net(trees)\n",
    "plan_emb.size()"
   ]
  },
  {
   "cell_type": "code",
   "execution_count": null,
   "id": "811fbb75",
   "metadata": {},
   "outputs": [],
   "source": []
  }
 ],
 "metadata": {
  "kernelspec": {
   "display_name": "Python 3 (ipykernel)",
   "language": "python",
   "name": "python3"
  },
  "language_info": {
   "codemirror_mode": {
    "name": "ipython",
    "version": 3
   },
   "file_extension": ".py",
   "mimetype": "text/x-python",
   "name": "python",
   "nbconvert_exporter": "python",
   "pygments_lexer": "ipython3",
   "version": "3.7.10"
  }
 },
 "nbformat": 4,
 "nbformat_minor": 5
}

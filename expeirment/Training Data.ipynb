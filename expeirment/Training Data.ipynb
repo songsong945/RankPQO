{
 "cells": [
  {
   "cell_type": "code",
   "execution_count": 1,
   "id": "cc328367",
   "metadata": {},
   "outputs": [],
   "source": [
    "import json\n",
    "from abc import ABCMeta, abstractmethod\n",
    "\n",
    "import numpy as np\n",
    "import torch\n",
    "import torch.nn as nn\n",
    "import torch.nn.functional as F"
   ]
  },
  {
   "cell_type": "code",
   "execution_count": 2,
   "id": "380d753c",
   "metadata": {},
   "outputs": [],
   "source": [
    "%load_ext autoreload\n",
    "%autoreload 2"
   ]
  },
  {
   "cell_type": "code",
   "execution_count": 3,
   "id": "9b3c2ea2",
   "metadata": {},
   "outputs": [],
   "source": [
    "import sys\n",
    "sys.path.append('..')"
   ]
  },
  {
   "cell_type": "code",
   "execution_count": 4,
   "id": "d54a6619",
   "metadata": {},
   "outputs": [],
   "source": [
    "from train.train_debug import *"
   ]
  },
  {
   "cell_type": "code",
   "execution_count": null,
   "id": "0eb1ec9a",
   "metadata": {},
   "outputs": [],
   "source": []
  },
  {
   "cell_type": "code",
   "execution_count": 5,
   "id": "4ca8f9ad",
   "metadata": {},
   "outputs": [],
   "source": [
    "Z, X1, X2, Y1, Y2, params, preprocess_info = load_training_data('../training_data/example_query/','q0')"
   ]
  },
  {
   "cell_type": "code",
   "execution_count": 6,
   "id": "e919eba7",
   "metadata": {},
   "outputs": [],
   "source": [
    "feature_generator = FeatureGenerator()"
   ]
  },
  {
   "cell_type": "code",
   "execution_count": 7,
   "id": "5348e99d",
   "metadata": {},
   "outputs": [
    {
     "name": "stdout",
     "output_type": "stream",
     "text": [
      "RelType :  {'Seq Scan', 'Nested Loop', 'Index Scan', 'Hash Join', 'Hash'}\n"
     ]
    }
   ],
   "source": [
    "feature_generator.fit(X1 + X2)"
   ]
  },
  {
   "cell_type": "code",
   "execution_count": 8,
   "id": "fd13276b",
   "metadata": {},
   "outputs": [
    {
     "data": {
      "text/plain": [
       "{'_mins': {'Startup Cost': 0.0,\n",
       "  'Total Cost': 0.371563556432483,\n",
       "  'Plan Rows': 0.6931471805599453},\n",
       " '_maxs': {'Startup Cost': 13.564519206060003,\n",
       "  'Total Cost': 13.673290407169015,\n",
       "  'Plan Rows': 17.404826908902354}}"
      ]
     },
     "execution_count": 8,
     "metadata": {},
     "output_type": "execute_result"
    }
   ],
   "source": [
    "vars(feature_generator.normalizer)"
   ]
  },
  {
   "cell_type": "code",
   "execution_count": 9,
   "id": "ad686baa",
   "metadata": {},
   "outputs": [
    {
     "data": {
      "text/plain": [
       "{'normalizer': <model.feature.Normalizer at 0x22c1a597e48>,\n",
       " 'input_relations': ['char_name', 'aka_title', 'name', 'title', 'cast_info']}"
      ]
     },
     "execution_count": 9,
     "metadata": {},
     "output_type": "execute_result"
    }
   ],
   "source": [
    "vars(feature_generator.feature_parser)"
   ]
  },
  {
   "cell_type": "code",
   "execution_count": 10,
   "id": "345e3e55",
   "metadata": {},
   "outputs": [
    {
     "data": {
      "text/plain": [
       "{'_mins': {'Startup Cost': 0.0,\n",
       "  'Total Cost': 0.371563556432483,\n",
       "  'Plan Rows': 0.6931471805599453},\n",
       " '_maxs': {'Startup Cost': 13.564519206060003,\n",
       "  'Total Cost': 13.673290407169015,\n",
       "  'Plan Rows': 17.404826908902354}}"
      ]
     },
     "execution_count": 10,
     "metadata": {},
     "output_type": "execute_result"
    }
   ],
   "source": [
    "vars(feature_generator.feature_parser.normalizer)"
   ]
  },
  {
   "cell_type": "code",
   "execution_count": 11,
   "id": "4f13e28e",
   "metadata": {},
   "outputs": [
    {
     "data": {
      "text/plain": [
       "(9, 9)"
      ]
     },
     "execution_count": 11,
     "metadata": {},
     "output_type": "execute_result"
    }
   ],
   "source": [
    "len(X1), len(Z)"
   ]
  },
  {
   "cell_type": "code",
   "execution_count": 12,
   "id": "0fefc60f",
   "metadata": {},
   "outputs": [
    {
     "data": {
      "text/plain": [
       "[('2014', '2014', '2014', '2013', '2013', '2013', '2013', '2013', '2013'),\n",
       " ('%John%',\n",
       "  '%John%',\n",
       "  '%John%',\n",
       "  '%smith%',\n",
       "  '%smith%',\n",
       "  '%smith%',\n",
       "  '%John%',\n",
       "  '%John%',\n",
       "  '%John%')]"
      ]
     },
     "execution_count": 12,
     "metadata": {},
     "output_type": "execute_result"
    }
   ],
   "source": [
    "list(zip(*Z))"
   ]
  },
  {
   "cell_type": "code",
   "execution_count": 13,
   "id": "5a2e0cdf",
   "metadata": {},
   "outputs": [],
   "source": [
    "X1_ = feature_generator.transform(X1)\n",
    "X2_ = feature_generator.transform(X2)\n",
    "Z_ = feature_generator.transform_z(Z, params, preprocess_info)"
   ]
  },
  {
   "cell_type": "code",
   "execution_count": 14,
   "id": "3764e2b8",
   "metadata": {},
   "outputs": [
    {
     "data": {
      "text/plain": [
       "array([[34, 34, 34, 33, 33, 33, 33, 33, 33],\n",
       "       [ 0,  0,  0,  1,  1,  1,  0,  0,  0]])"
      ]
     },
     "execution_count": 14,
     "metadata": {},
     "output_type": "execute_result"
    }
   ],
   "source": [
    "Z_"
   ]
  },
  {
   "cell_type": "code",
   "execution_count": 15,
   "id": "db7a4c51",
   "metadata": {},
   "outputs": [
    {
     "data": {
      "text/plain": [
       "[array([34, 34, 34, 33, 33, 33, 33, 33, 33]),\n",
       " array([0, 0, 0, 1, 1, 1, 0, 0, 0])]"
      ]
     },
     "execution_count": 15,
     "metadata": {},
     "output_type": "execute_result"
    }
   ],
   "source": [
    "vector = list(zip(*Z))\n",
    "processed_components = []\n",
    "for i, (param, preprocessing_info) in enumerate(zip(params, preprocess_info)):\n",
    "    data_type = param[\"data_type\"]\n",
    "    preprocessing_type = preprocessing_info[\"type\"]\n",
    "    layer = vector[i]\n",
    "    if data_type == \"float\" and preprocessing_type == \"std_normalization\":\n",
    "        mean = preprocessing_info[\"mean\"]\n",
    "        std = torch.sqrt(preprocessing_info[\"variance\"])\n",
    "        processed_components.append((np.array(layer).astype(int) - mean) / std)\n",
    "    elif data_type == \"int\":\n",
    "        shifted_layer = np.array(layer).astype(int) - param[\"min\"]\n",
    "        processed_components.append(shifted_layer)\n",
    "    elif data_type == \"text\":\n",
    "        vocab = {word: idx for idx, word in enumerate(param[\"distinct_values\"])}\n",
    "        num_oov_indices = preprocessing_info.get(\"num_oov_indices\", 0)\n",
    "        lookup_layer = np.array([vocab.get(la, len(vocab)) for la in layer])\n",
    "        processed_components.append(lookup_layer)\n",
    "        \n",
    "processed_components"
   ]
  },
  {
   "cell_type": "code",
   "execution_count": 16,
   "id": "7828c86a",
   "metadata": {},
   "outputs": [],
   "source": [
    "rank_PQO_model = RankPQOModel(feature_generator, 'q0', preprocess_info)"
   ]
  },
  {
   "cell_type": "code",
   "execution_count": 17,
   "id": "0bd16f92",
   "metadata": {},
   "outputs": [
    {
     "data": {
      "text/plain": [
       "<model.model.RankPQOModel at 0x22c20b00f08>"
      ]
     },
     "execution_count": 17,
     "metadata": {},
     "output_type": "execute_result"
    }
   ],
   "source": [
    "rank_PQO_model"
   ]
  },
  {
   "cell_type": "code",
   "execution_count": null,
   "id": "6421293c",
   "metadata": {},
   "outputs": [],
   "source": []
  }
 ],
 "metadata": {
  "kernelspec": {
   "display_name": "Python 3 (ipykernel)",
   "language": "python",
   "name": "python3"
  },
  "language_info": {
   "codemirror_mode": {
    "name": "ipython",
    "version": 3
   },
   "file_extension": ".py",
   "mimetype": "text/x-python",
   "name": "python",
   "nbconvert_exporter": "python",
   "pygments_lexer": "ipython3",
   "version": "3.7.10"
  }
 },
 "nbformat": 4,
 "nbformat_minor": 5
}

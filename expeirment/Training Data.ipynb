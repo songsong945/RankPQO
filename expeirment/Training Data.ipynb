{
 "cells": [
  {
   "cell_type": "code",
   "execution_count": 1,
   "id": "cc328367",
   "metadata": {},
   "outputs": [],
   "source": [
    "import json\n",
    "from abc import ABCMeta, abstractmethod\n",
    "\n",
    "import numpy as np\n",
    "import torch\n",
    "import torch.nn as nn\n",
    "import torch.nn.functional as F"
   ]
  },
  {
   "cell_type": "code",
   "execution_count": 2,
   "id": "380d753c",
   "metadata": {},
   "outputs": [],
   "source": [
    "%load_ext autoreload\n",
    "%autoreload 2"
   ]
  },
  {
   "cell_type": "code",
   "execution_count": 3,
   "id": "9b3c2ea2",
   "metadata": {},
   "outputs": [],
   "source": [
    "import sys\n",
    "sys.path.append('..')"
   ]
  },
  {
   "cell_type": "code",
   "execution_count": 4,
   "id": "d54a6619",
   "metadata": {},
   "outputs": [],
   "source": [
    "from train.train_debug import *"
   ]
  },
  {
   "cell_type": "code",
   "execution_count": null,
   "id": "0eb1ec9a",
   "metadata": {},
   "outputs": [],
   "source": []
  },
  {
   "cell_type": "code",
   "execution_count": 5,
   "id": "4ca8f9ad",
   "metadata": {},
   "outputs": [],
   "source": [
    "Z, X1, X2, Y1, Y2, params, preprocess_info = load_training_data('../training_data/example_query/','q0')"
   ]
  },
  {
   "cell_type": "code",
   "execution_count": 6,
   "id": "e919eba7",
   "metadata": {},
   "outputs": [],
   "source": [
    "feature_generator = FeatureGenerator()"
   ]
  },
  {
   "cell_type": "code",
   "execution_count": 7,
   "id": "5348e99d",
   "metadata": {},
   "outputs": [
    {
     "name": "stdout",
     "output_type": "stream",
     "text": [
      "RelType :  {'Hash Join', 'Seq Scan', 'Index Scan', 'Nested Loop', 'Hash'}\n"
     ]
    }
   ],
   "source": [
    "feature_generator.fit(X1 + X2)"
   ]
  },
  {
   "cell_type": "code",
   "execution_count": 8,
   "id": "fd13276b",
   "metadata": {},
   "outputs": [
    {
     "data": {
      "text/plain": [
       "{'_mins': {'Startup Cost': 0.0,\n",
       "  'Total Cost': 0.371563556432483,\n",
       "  'Plan Rows': 0.6931471805599453},\n",
       " '_maxs': {'Startup Cost': 13.564519206060003,\n",
       "  'Total Cost': 13.673290407169015,\n",
       "  'Plan Rows': 17.404826908902354}}"
      ]
     },
     "execution_count": 8,
     "metadata": {},
     "output_type": "execute_result"
    }
   ],
   "source": [
    "vars(feature_generator.normalizer)"
   ]
  },
  {
   "cell_type": "code",
   "execution_count": 9,
   "id": "ad686baa",
   "metadata": {},
   "outputs": [
    {
     "data": {
      "text/plain": [
       "{'normalizer': <model.feature.Normalizer at 0x2520590dd08>,\n",
       " 'input_relations': ['title', 'name', 'cast_info', 'aka_title', 'char_name']}"
      ]
     },
     "execution_count": 9,
     "metadata": {},
     "output_type": "execute_result"
    }
   ],
   "source": [
    "vars(feature_generator.feature_parser)"
   ]
  },
  {
   "cell_type": "code",
   "execution_count": 10,
   "id": "345e3e55",
   "metadata": {},
   "outputs": [
    {
     "data": {
      "text/plain": [
       "{'_mins': {'Startup Cost': 0.0,\n",
       "  'Total Cost': 0.371563556432483,\n",
       "  'Plan Rows': 0.6931471805599453},\n",
       " '_maxs': {'Startup Cost': 13.564519206060003,\n",
       "  'Total Cost': 13.673290407169015,\n",
       "  'Plan Rows': 17.404826908902354}}"
      ]
     },
     "execution_count": 10,
     "metadata": {},
     "output_type": "execute_result"
    }
   ],
   "source": [
    "vars(feature_generator.feature_parser.normalizer)"
   ]
  },
  {
   "cell_type": "code",
   "execution_count": 11,
   "id": "4f13e28e",
   "metadata": {},
   "outputs": [
    {
     "data": {
      "text/plain": [
       "(9, 9)"
      ]
     },
     "execution_count": 11,
     "metadata": {},
     "output_type": "execute_result"
    }
   ],
   "source": [
    "len(X1), len(Z)"
   ]
  },
  {
   "cell_type": "code",
   "execution_count": 12,
   "id": "0fefc60f",
   "metadata": {},
   "outputs": [
    {
     "data": {
      "text/plain": [
       "[('2014', '2014', '2014', '2013', '2013', '2013', '2013', '2013', '2013'),\n",
       " ('%John%',\n",
       "  '%John%',\n",
       "  '%John%',\n",
       "  '%smith%',\n",
       "  '%smith%',\n",
       "  '%smith%',\n",
       "  '%John%',\n",
       "  '%John%',\n",
       "  '%John%')]"
      ]
     },
     "execution_count": 12,
     "metadata": {},
     "output_type": "execute_result"
    }
   ],
   "source": [
    "list(zip(*Z))"
   ]
  },
  {
   "cell_type": "code",
   "execution_count": 13,
   "id": "5a2e0cdf",
   "metadata": {},
   "outputs": [],
   "source": [
    "X1_ = feature_generator.transform(X1)\n",
    "X2_ = feature_generator.transform(X2)\n",
    "Z_ = feature_generator.transform_z(Z, params, preprocess_info)"
   ]
  },
  {
   "cell_type": "code",
   "execution_count": 14,
   "id": "3764e2b8",
   "metadata": {},
   "outputs": [
    {
     "data": {
      "text/plain": [
       "array([[34,  0],\n",
       "       [34,  0],\n",
       "       [34,  0],\n",
       "       [33,  1],\n",
       "       [33,  1],\n",
       "       [33,  1],\n",
       "       [33,  0],\n",
       "       [33,  0],\n",
       "       [33,  0]])"
      ]
     },
     "execution_count": 14,
     "metadata": {},
     "output_type": "execute_result"
    }
   ],
   "source": [
    "Z_"
   ]
  },
  {
   "cell_type": "code",
   "execution_count": 15,
   "id": "6421293c",
   "metadata": {},
   "outputs": [],
   "source": [
    "Y1_ = np.array(Y1).reshape(-1, 1)\n",
    "Y2_ = np.array(Y2).reshape(-1, 1)"
   ]
  },
  {
   "cell_type": "code",
   "execution_count": 16,
   "id": "8477c7b7",
   "metadata": {},
   "outputs": [
    {
     "data": {
      "text/plain": [
       "23"
      ]
     },
     "execution_count": 16,
     "metadata": {},
     "output_type": "execute_result"
    }
   ],
   "source": [
    "input_feature_dim = len(X1_[0].get_feature())\n",
    "input_feature_dim"
   ]
  },
  {
   "cell_type": "code",
   "execution_count": 17,
   "id": "53086a58",
   "metadata": {},
   "outputs": [],
   "source": [
    "from model.model import *\n",
    "plan_net = PlanEmbeddingNet(input_feature_dim)\n",
    "parameter_net = ParameterEmbeddingNet('q0', preprocess_info)"
   ]
  },
  {
   "cell_type": "code",
   "execution_count": 18,
   "id": "3abf4daf",
   "metadata": {},
   "outputs": [],
   "source": [
    "pairs = []\n",
    "for i in range(len(X1_)):\n",
    "    pairs.append((X1_[i], X2_[i], Z_[i], 1.0 if Y1[i] <= Y2[i] else 0.0))"
   ]
  },
  {
   "cell_type": "code",
   "execution_count": 19,
   "id": "c3a7e62d",
   "metadata": {},
   "outputs": [],
   "source": [
    "from torch.utils.data import Dataset\n",
    "from model.TreeConvolution.util import *\n",
    "class PairDataset(Dataset):\n",
    "    def __init__(self, X1, X2, Y1, Y2, Z):\n",
    "        self.X1 = X1\n",
    "        self.X2 = X2\n",
    "        self.Y = []\n",
    "        for y1, y2 in zip(Y1, Y2):\n",
    "            if y1 <= y2:\n",
    "                self.Y.append(1.)\n",
    "            else:\n",
    "                self.Y.append(0.)\n",
    "        self.Z = Z\n",
    "\n",
    "    def __len__(self):\n",
    "        return len(self.X1)\n",
    "\n",
    "    def __getitem__(self, idx):\n",
    "        return self.X1[idx], self.X2[idx], self.Z[idx], self.Y[idx]"
   ]
  },
  {
   "cell_type": "code",
   "execution_count": 20,
   "id": "4b09d552",
   "metadata": {},
   "outputs": [],
   "source": [
    "class Batch():\n",
    "    def __init__(self, X1, X2, Z, Y):\n",
    "        self.X1 = X1\n",
    "        self.X2 = X2\n",
    "        self.Y = Y\n",
    "        self.Z = Z\n",
    "\n",
    "    def to(self,dev):\n",
    "        self.X1 = X1.to(dev)\n",
    "        self.X2 = X2.to(dev)\n",
    "        self.Y = Y.to(dev)\n",
    "        self.Z = Z.to(dev)\n",
    "        return self"
   ]
  },
  {
   "cell_type": "code",
   "execution_count": 21,
   "id": "4f747548",
   "metadata": {},
   "outputs": [],
   "source": [
    "def collate_pairwise_fn(x):\n",
    "    trees1 = []\n",
    "    trees2 = []\n",
    "    parameters2 = []\n",
    "    labels = []\n",
    "\n",
    "    for tree1, tree2, parameter2, label in x:\n",
    "        trees1.append(tree1)\n",
    "        trees2.append(tree2)\n",
    "        parameters2.append(parameter2)\n",
    "        labels.append(label)\n",
    "    return trees1, trees2, torch.FloatTensor(parameters2), torch.FloatTensor(np.array(labels)).reshape(-1, 1)"
   ]
  },
  {
   "cell_type": "code",
   "execution_count": 22,
   "id": "0104bae7",
   "metadata": {},
   "outputs": [],
   "source": [
    "ds = PairDataset(X1_, X2_, Y1_, Y2_, Z_)"
   ]
  },
  {
   "cell_type": "code",
   "execution_count": 23,
   "id": "7ff3ba0c",
   "metadata": {},
   "outputs": [],
   "source": [
    "from torch.utils.data import DataLoader\n",
    "ld = DataLoader(ds, batch_size=2, shuffle=True, collate_fn=collate_pairwise_fn)"
   ]
  },
  {
   "cell_type": "code",
   "execution_count": 24,
   "id": "eddec810",
   "metadata": {},
   "outputs": [
    {
     "data": {
      "text/plain": [
       "(<model.feature.SampleEntity at 0x25205939308>,\n",
       " <model.feature.SampleEntity at 0x25205948f48>,\n",
       " array([34,  0]),\n",
       " 1.0)"
      ]
     },
     "execution_count": 24,
     "metadata": {},
     "output_type": "execute_result"
    }
   ],
   "source": [
    "ds[1]"
   ]
  },
  {
   "cell_type": "code",
   "execution_count": 25,
   "id": "20d61b44",
   "metadata": {},
   "outputs": [
    {
     "data": {
      "text/plain": [
       "array([[34,  0],\n",
       "       [34,  0],\n",
       "       [34,  0],\n",
       "       [33,  1],\n",
       "       [33,  1],\n",
       "       [33,  1],\n",
       "       [33,  0],\n",
       "       [33,  0],\n",
       "       [33,  0]])"
      ]
     },
     "execution_count": 25,
     "metadata": {},
     "output_type": "execute_result"
    }
   ],
   "source": [
    "Z_"
   ]
  },
  {
   "cell_type": "code",
   "execution_count": 26,
   "id": "234f7d02",
   "metadata": {},
   "outputs": [
    {
     "name": "stderr",
     "output_type": "stream",
     "text": [
      "D:\\anaconda3\\envs\\codeTrans\\lib\\site-packages\\ipykernel_launcher.py:12: UserWarning: Creating a tensor from a list of numpy.ndarrays is extremely slow. Please consider converting the list to a single numpy.ndarray with numpy.array() before converting to a tensor. (Triggered internally at  C:\\cb\\pytorch_1000000000000\\work\\torch\\csrc\\utils\\tensor_new.cpp:210.)\n",
      "  if sys.path[0] == \"\":\n"
     ]
    },
    {
     "data": {
      "text/plain": [
       "([<model.feature.SampleEntity at 0x25205944088>,\n",
       "  <model.feature.SampleEntity at 0x25205939308>],\n",
       " [<model.feature.SampleEntity at 0x25205963f88>,\n",
       "  <model.feature.SampleEntity at 0x25205948f48>],\n",
       " tensor([[33.,  0.],\n",
       "         [34.,  0.]], dtype=torch.float32),\n",
       " tensor([[1.],\n",
       "         [1.]], dtype=torch.float32))"
      ]
     },
     "execution_count": 26,
     "metadata": {},
     "output_type": "execute_result"
    }
   ],
   "source": [
    "a = next(iter(ld))\n",
    "a"
   ]
  },
  {
   "cell_type": "code",
   "execution_count": 27,
   "id": "04754b4b",
   "metadata": {},
   "outputs": [],
   "source": [
    "plan_optimizer = torch.optim.Adam(plan_net.parameters())\n",
    "parameter_optimizer = torch.optim.Adam(parameter_net.parameters())\n",
    "bce_loss_fn = torch.nn.BCELoss()"
   ]
  },
  {
   "cell_type": "code",
   "execution_count": 28,
   "id": "c5278009",
   "metadata": {},
   "outputs": [],
   "source": [
    "x1, x2, z, label = a"
   ]
  },
  {
   "cell_type": "code",
   "execution_count": 29,
   "id": "fa54d948",
   "metadata": {},
   "outputs": [],
   "source": [
    "tree_x1 = plan_net.build_trees(x1)\n",
    "tree_x2 = plan_net.build_trees(x2)"
   ]
  },
  {
   "cell_type": "code",
   "execution_count": 30,
   "id": "446eb910",
   "metadata": {},
   "outputs": [],
   "source": [
    "y_pred_1 = plan_net(tree_x1)\n",
    "y_pred_2 = plan_net(tree_x2)\n",
    "z_pred = parameter_net(z)"
   ]
  },
  {
   "cell_type": "code",
   "execution_count": 74,
   "id": "783faa53",
   "metadata": {},
   "outputs": [
    {
     "data": {
      "text/plain": [
       "(torch.float64, torch.float64)"
      ]
     },
     "execution_count": 74,
     "metadata": {},
     "output_type": "execute_result"
    }
   ],
   "source": [
    "y_pred_1.dtype, z_pred.dtype"
   ]
  },
  {
   "cell_type": "code",
   "execution_count": null,
   "id": "e4df3ad6",
   "metadata": {},
   "outputs": [],
   "source": []
  },
  {
   "cell_type": "code",
   "execution_count": 47,
   "id": "2cfd24c8",
   "metadata": {},
   "outputs": [
    {
     "data": {
      "text/plain": [
       "(torch.Size([2, 32]), torch.Size([2, 32]))"
      ]
     },
     "execution_count": 47,
     "metadata": {},
     "output_type": "execute_result"
    }
   ],
   "source": [
    "y_pred_1.shape, z_pred.shape"
   ]
  },
  {
   "cell_type": "code",
   "execution_count": 32,
   "id": "40147b1c",
   "metadata": {},
   "outputs": [
    {
     "data": {
      "text/plain": [
       "2"
      ]
     },
     "execution_count": 32,
     "metadata": {},
     "output_type": "execute_result"
    }
   ],
   "source": [
    "batch_size = z.size(0)\n",
    "batch_size"
   ]
  },
  {
   "cell_type": "code",
   "execution_count": 33,
   "id": "9f392ac2",
   "metadata": {},
   "outputs": [
    {
     "data": {
      "text/plain": [
       "(tensor([[33.],\n",
       "         [34.]], dtype=torch.float32),\n",
       " tensor([[0.],\n",
       "         [0.]], dtype=torch.float32))"
      ]
     },
     "execution_count": 33,
     "metadata": {},
     "output_type": "execute_result"
    }
   ],
   "source": [
    "x_l = torch.split(z, 1, dim=-1) \n",
    "x_l"
   ]
  },
  {
   "cell_type": "code",
   "execution_count": 83,
   "id": "4ebfa609",
   "metadata": {},
   "outputs": [
    {
     "name": "stdout",
     "output_type": "stream",
     "text": [
      "tensor([[33.],\n",
      "        [34.]], dtype=torch.float32)\n",
      "tensor([[0.],\n",
      "        [0.]], dtype=torch.float32)\n"
     ]
    }
   ],
   "source": [
    "embedded = []\n",
    "for x_i, e in zip(x_l, parameter_net.embed_layers):\n",
    "    print(x_i)\n",
    "    if not isinstance(e, nn.Identity):\n",
    "        embedded.append(e(x_i.long()).view(batch_size, -1))\n",
    "    else:\n",
    "        embedded.append(e(x_i))"
   ]
  },
  {
   "cell_type": "code",
   "execution_count": 82,
   "id": "a7d37279",
   "metadata": {},
   "outputs": [
    {
     "data": {
      "text/plain": [
       "torch.float64"
      ]
     },
     "execution_count": 82,
     "metadata": {},
     "output_type": "execute_result"
    }
   ],
   "source": [
    "e(x_i.long()).dtype"
   ]
  },
  {
   "cell_type": "code",
   "execution_count": 80,
   "id": "d2676a03",
   "metadata": {},
   "outputs": [
    {
     "data": {
      "text/plain": [
       "[tensor([[0., 0., 0., 0., 0., 0., 0., 0., 0., 0., 0., 0., 0., 0., 0., 0., 0., 0.,\n",
       "          0., 0., 0., 0., 0., 0., 0., 0., 0., 0., 0., 0., 0., 0., 0., 1., 0., 0.,\n",
       "          0., 0., 0., 0., 0., 0., 0., 0., 0., 0., 0., 0., 0., 0.],\n",
       "         [0., 0., 0., 0., 0., 0., 0., 0., 0., 0., 0., 0., 0., 0., 0., 0., 0., 0.,\n",
       "          0., 0., 0., 0., 0., 0., 0., 0., 0., 0., 0., 0., 0., 0., 0., 0., 1., 0.,\n",
       "          0., 0., 0., 0., 0., 0., 0., 0., 0., 0., 0., 0., 0., 0.]]),\n",
       " tensor([[-0.2701, -0.8241, -0.8562, -1.9137, -0.0558, -0.9335, -0.4713, -0.9412,\n",
       "          -0.4025, -0.1374,  0.4396, -1.2399,  0.4492,  0.2594, -0.6063, -1.3823,\n",
       "          -1.2451,  0.5592, -0.4497, -0.9276,  0.3364, -1.8150,  2.3229, -0.4331,\n",
       "          -1.4283,  0.6416,  1.7311, -0.2279,  0.2552, -0.0767, -0.9744,  2.1503],\n",
       "         [-0.2701, -0.8241, -0.8562, -1.9137, -0.0558, -0.9335, -0.4713, -0.9412,\n",
       "          -0.4025, -0.1374,  0.4396, -1.2399,  0.4492,  0.2594, -0.6063, -1.3823,\n",
       "          -1.2451,  0.5592, -0.4497, -0.9276,  0.3364, -1.8150,  2.3229, -0.4331,\n",
       "          -1.4283,  0.6416,  1.7311, -0.2279,  0.2552, -0.0767, -0.9744,  2.1503]],\n",
       "        grad_fn=<ViewBackward0>)]"
      ]
     },
     "execution_count": 80,
     "metadata": {},
     "output_type": "execute_result"
    }
   ],
   "source": [
    "embedded"
   ]
  },
  {
   "cell_type": "code",
   "execution_count": 75,
   "id": "98d72c4a",
   "metadata": {},
   "outputs": [
    {
     "data": {
      "text/plain": [
       "torch.float64"
      ]
     },
     "execution_count": 75,
     "metadata": {},
     "output_type": "execute_result"
    }
   ],
   "source": [
    "torch.concat(embedded, -1).dtype"
   ]
  },
  {
   "cell_type": "code",
   "execution_count": 36,
   "id": "1f0664ec",
   "metadata": {},
   "outputs": [
    {
     "data": {
      "text/plain": [
       "82"
      ]
     },
     "execution_count": 36,
     "metadata": {},
     "output_type": "execute_result"
    }
   ],
   "source": [
    "parameter_net.embed_len"
   ]
  },
  {
   "cell_type": "code",
   "execution_count": 48,
   "id": "23836303",
   "metadata": {},
   "outputs": [
    {
     "ename": "RuntimeError",
     "evalue": "Boolean value of Tensor with more than one value is ambiguous",
     "output_type": "error",
     "traceback": [
      "\u001b[1;31m---------------------------------------------------------------------------\u001b[0m",
      "\u001b[1;31mRuntimeError\u001b[0m                              Traceback (most recent call last)",
      "\u001b[1;32m~\\AppData\\Local\\Temp\\ipykernel_27480\\2916175557.py\u001b[0m in \u001b[0;36m<module>\u001b[1;34m\u001b[0m\n\u001b[0;32m      1\u001b[0m \u001b[0mdistance_1\u001b[0m \u001b[1;33m=\u001b[0m \u001b[0mtorch\u001b[0m\u001b[1;33m.\u001b[0m\u001b[0mnorm\u001b[0m\u001b[1;33m(\u001b[0m\u001b[0my_pred_1\u001b[0m \u001b[1;33m-\u001b[0m \u001b[0mz_pred\u001b[0m\u001b[1;33m,\u001b[0m \u001b[0mdim\u001b[0m \u001b[1;33m=\u001b[0m \u001b[1;36m1\u001b[0m\u001b[1;33m)\u001b[0m\u001b[1;33m\u001b[0m\u001b[1;33m\u001b[0m\u001b[0m\n\u001b[0;32m      2\u001b[0m \u001b[0mdistance_2\u001b[0m \u001b[1;33m=\u001b[0m \u001b[0mtorch\u001b[0m\u001b[1;33m.\u001b[0m\u001b[0mnorm\u001b[0m\u001b[1;33m(\u001b[0m\u001b[0my_pred_2\u001b[0m \u001b[1;33m-\u001b[0m \u001b[0mz_pred\u001b[0m\u001b[1;33m,\u001b[0m \u001b[0mdim\u001b[0m \u001b[1;33m=\u001b[0m \u001b[1;36m1\u001b[0m\u001b[1;33m)\u001b[0m\u001b[1;33m\u001b[0m\u001b[1;33m\u001b[0m\u001b[0m\n\u001b[1;32m----> 3\u001b[1;33m \u001b[0mprob_y\u001b[0m \u001b[1;33m=\u001b[0m \u001b[1;36m1.0\u001b[0m \u001b[1;32mif\u001b[0m \u001b[0mdistance_1\u001b[0m \u001b[1;33m<=\u001b[0m \u001b[0mdistance_2\u001b[0m \u001b[1;32melse\u001b[0m \u001b[1;36m0.0\u001b[0m\u001b[1;33m\u001b[0m\u001b[1;33m\u001b[0m\u001b[0m\n\u001b[0m",
      "\u001b[1;31mRuntimeError\u001b[0m: Boolean value of Tensor with more than one value is ambiguous"
     ]
    }
   ],
   "source": [
    "distance_1 = torch.norm(y_pred_1 - z_pred, dim = 1)\n",
    "distance_2 = torch.norm(y_pred_2 - z_pred, dim = 1)\n",
    "prob_y = 1.0 if distance_1 <= distance_2 else 0.0"
   ]
  },
  {
   "cell_type": "code",
   "execution_count": 63,
   "id": "62018388",
   "metadata": {},
   "outputs": [],
   "source": [
    "prob_y = torch.sigmoid(distance_1 - distance_2)"
   ]
  },
  {
   "cell_type": "code",
   "execution_count": 64,
   "id": "ba0d83fb",
   "metadata": {},
   "outputs": [
    {
     "data": {
      "text/plain": [
       "tensor([5.0797, 5.0919], grad_fn=<CopyBackwards>)"
      ]
     },
     "execution_count": 64,
     "metadata": {},
     "output_type": "execute_result"
    }
   ],
   "source": [
    "distance_1"
   ]
  },
  {
   "cell_type": "code",
   "execution_count": 65,
   "id": "4508054c",
   "metadata": {},
   "outputs": [
    {
     "data": {
      "text/plain": [
       "tensor([0.5382, 0.4848], grad_fn=<SigmoidBackward0>)"
      ]
     },
     "execution_count": 65,
     "metadata": {},
     "output_type": "execute_result"
    }
   ],
   "source": [
    "prob_y"
   ]
  },
  {
   "cell_type": "code",
   "execution_count": 85,
   "id": "a2f082da",
   "metadata": {},
   "outputs": [],
   "source": [
    "loss = bce_loss_fn(prob_y.view(-1,1).float(), label)"
   ]
  },
  {
   "cell_type": "code",
   "execution_count": 86,
   "id": "7826581f",
   "metadata": {},
   "outputs": [
    {
     "data": {
      "text/plain": [
       "tensor(0.6717, dtype=torch.float32, grad_fn=<BinaryCrossEntropyBackward0>)"
      ]
     },
     "execution_count": 86,
     "metadata": {},
     "output_type": "execute_result"
    }
   ],
   "source": [
    "loss"
   ]
  },
  {
   "cell_type": "code",
   "execution_count": 70,
   "id": "21e02bb0",
   "metadata": {},
   "outputs": [
    {
     "data": {
      "text/plain": [
       "torch.float64"
      ]
     },
     "execution_count": 70,
     "metadata": {},
     "output_type": "execute_result"
    }
   ],
   "source": [
    "prob_y.dtype"
   ]
  },
  {
   "cell_type": "code",
   "execution_count": 69,
   "id": "77622b23",
   "metadata": {},
   "outputs": [
    {
     "data": {
      "text/plain": [
       "tensor([5.0797, 5.0919], grad_fn=<CopyBackwards>)"
      ]
     },
     "execution_count": 69,
     "metadata": {},
     "output_type": "execute_result"
    }
   ],
   "source": [
    "distance_1"
   ]
  },
  {
   "cell_type": "code",
   "execution_count": 88,
   "id": "7dc53f93",
   "metadata": {},
   "outputs": [],
   "source": [
    "loss.backward()"
   ]
  },
  {
   "cell_type": "code",
   "execution_count": 89,
   "id": "d52f82aa",
   "metadata": {},
   "outputs": [],
   "source": [
    "plan_optimizer.step()\n",
    "parameter_optimizer.step()"
   ]
  },
  {
   "cell_type": "code",
   "execution_count": null,
   "id": "b48427c2",
   "metadata": {},
   "outputs": [],
   "source": []
  }
 ],
 "metadata": {
  "kernelspec": {
   "display_name": "Python 3 (ipykernel)",
   "language": "python",
   "name": "python3"
  },
  "language_info": {
   "codemirror_mode": {
    "name": "ipython",
    "version": 3
   },
   "file_extension": ".py",
   "mimetype": "text/x-python",
   "name": "python",
   "nbconvert_exporter": "python",
   "pygments_lexer": "ipython3",
   "version": "3.7.10"
  }
 },
 "nbformat": 4,
 "nbformat_minor": 5
}
